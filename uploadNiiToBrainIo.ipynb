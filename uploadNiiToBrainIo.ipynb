{
 "cells": [
  {
   "cell_type": "code",
   "execution_count": 18,
   "metadata": {},
   "outputs": [],
   "source": [
    "import os\n",
    "import subprocess"
   ]
  },
  {
   "cell_type": "code",
   "execution_count": 19,
   "metadata": {},
   "outputs": [],
   "source": [
    "nii_amyloid_path = \"/home/ubuntu/Desktop/ADNI_MRI_Image/nii_AmyloidPos_MCI\"\n",
    "nii_all_path = \"/home/ubuntu/Desktop/ADNI_MRI_Image/nii_MCI\""
   ]
  },
  {
   "cell_type": "code",
   "execution_count": 20,
   "metadata": {},
   "outputs": [],
   "source": [
    "amyloid_list = os.listdir(nii_amyloid_path)\n",
    "all_list = os.listdir(nii_all_path)"
   ]
  },
  {
   "cell_type": "code",
   "execution_count": 21,
   "metadata": {},
   "outputs": [
    {
     "name": "stdout",
     "output_type": "stream",
     "text": [
      "628\n",
      "307\n"
     ]
    }
   ],
   "source": [
    "print(len(all_list))\n",
    "print(len(amyloid_list))"
   ]
  },
  {
   "cell_type": "code",
   "execution_count": 22,
   "metadata": {},
   "outputs": [],
   "source": [
    "MCI_id = \"5e44ab0a1eafff87c0f93fe3\""
   ]
  },
  {
   "cell_type": "code",
   "execution_count": 23,
   "metadata": {},
   "outputs": [],
   "source": [
    "subject_in = []\n",
    "with open('subjects') as f:\n",
    "    for line in f:\n",
    "        subject_in.append(line[:-1]) "
   ]
  },
  {
   "cell_type": "code",
   "execution_count": 24,
   "metadata": {},
   "outputs": [
    {
     "data": {
      "text/plain": [
       "['153_S_6336',\n",
       " '168_S_6180',\n",
       " '009_S_4564',\n",
       " '941_S_2060',\n",
       " '024_S_4186',\n",
       " '073_S_4443',\n",
       " '116_S_6550',\n",
       " '014_S_6765',\n",
       " '072_S_4390',\n",
       " '128_S_2036',\n",
       " '037_S_6125',\n",
       " '023_S_6723',\n",
       " '127_S_4210',\n",
       " '137_S_4299',\n",
       " '053_S_2357',\n",
       " '301_S_6811',\n",
       " '126_S_6724',\n",
       " '006_S_6677',\n",
       " '024_S_6033',\n",
       " '013_S_4268',\n",
       " '037_S_4432',\n",
       " '128_S_4653',\n",
       " '137_S_4536',\n",
       " '116_S_6775',\n",
       " '072_S_4383',\n",
       " '305_S_6378',\n",
       " '072_S_4206',\n",
       " '094_S_4434',\n",
       " '031_S_4194',\n",
       " '128_S_2123',\n",
       " '094_S_2201',\n",
       " '094_S_2238',\n",
       " '032_S_6700',\n",
       " '137_S_4678',\n",
       " '014_S_4328',\n",
       " '027_S_6370',\n",
       " '073_S_4216',\n",
       " '067_S_2304',\n",
       " '109_S_6373',\n",
       " '006_S_6696',\n",
       " '006_S_6672',\n",
       " '072_S_2027',\n",
       " '153_S_2148',\n",
       " '131_S_6805',\n",
       " '301_S_6297',\n",
       " '099_S_2146',\n",
       " '135_S_4356',\n",
       " '013_S_6206',\n",
       " '073_S_4540',\n",
       " '136_S_4517',\n",
       " '135_S_6110',\n",
       " '137_S_6654',\n",
       " '010_S_6748',\n",
       " '072_S_2093',\n",
       " '116_S_6428',\n",
       " '003_S_4354',\n",
       " '027_S_2245',\n",
       " '109_S_2278',\n",
       " '035_S_4784',\n",
       " '301_S_6615',\n",
       " '073_S_4777',\n",
       " '024_S_2239',\n",
       " '002_S_4237',\n",
       " '126_S_4514',\n",
       " '032_S_4823',\n",
       " '009_S_4814',\n",
       " '019_S_6635',\n",
       " '068_S_2193',\n",
       " '019_S_4293',\n",
       " '033_S_6497',\n",
       " '006_S_6674',\n",
       " '341_S_6686',\n",
       " '006_S_6610',\n",
       " '052_S_2249',\n",
       " '068_S_4332',\n",
       " '006_S_6252',\n",
       " '027_S_2219',\n",
       " '128_S_4842',\n",
       " '135_S_4281',\n",
       " '131_S_6616',\n",
       " '109_S_6221',\n",
       " '041_S_4004',\n",
       " '099_S_4202',\n",
       " '168_S_6619',\n",
       " '027_S_6643',\n",
       " '067_S_6525',\n",
       " '022_S_5004',\n",
       " '135_S_6544',\n",
       " '070_S_6229',\n",
       " '109_S_2200',\n",
       " '021_S_5099',\n",
       " '305_S_6744',\n",
       " '027_S_4873',\n",
       " '130_S_4468',\n",
       " '032_S_6804',\n",
       " '068_S_4061',\n",
       " '067_S_6474',\n",
       " '067_S_5160',\n",
       " '016_S_6816',\n",
       " '153_S_4133',\n",
       " '301_S_6777',\n",
       " '141_S_4907',\n",
       " '127_S_6512',\n",
       " '016_S_6789',\n",
       " '126_S_2407',\n",
       " '035_S_4256',\n",
       " '153_S_6274',\n",
       " '006_S_6243',\n",
       " '006_S_6681',\n",
       " '072_S_4226',\n",
       " '141_S_6041',\n",
       " '029_S_6798',\n",
       " '130_S_6047',\n",
       " '007_S_2058',\n",
       " '098_S_6534',\n",
       " '068_S_2168',\n",
       " '072_S_4613',\n",
       " '109_S_6376',\n",
       " '053_S_2396',\n",
       " '027_S_4869',\n",
       " '072_S_2070',\n",
       " '031_S_4476',\n",
       " '003_S_6479',\n",
       " '135_S_6446',\n",
       " '067_S_4072',\n",
       " '005_S_6427',\n",
       " '072_S_4871',\n",
       " '130_S_6823',\n",
       " '941_S_6345',\n",
       " '128_S_2011',\n",
       " '141_S_4803',\n",
       " '098_S_2052',\n",
       " '098_S_6593',\n",
       " '027_S_6788',\n",
       " '019_S_6668',\n",
       " '099_S_4463',\n",
       " '109_S_4380',\n",
       " '341_S_6764',\n",
       " '002_S_6652',\n",
       " '024_S_4622',\n",
       " '129_S_2332',\n",
       " '109_S_4455',\n",
       " '027_S_6034',\n",
       " '126_S_4712',\n",
       " '072_S_4445',\n",
       " '029_S_6726',\n",
       " '099_S_4475',\n",
       " '018_S_2180',\n",
       " '023_S_4115',\n",
       " '006_S_4960',\n",
       " '072_S_4941',\n",
       " '153_S_4159',\n",
       " '031_S_2018',\n",
       " '941_S_6052',\n",
       " '141_S_4711',\n",
       " '941_S_6068',\n",
       " '016_S_4601',\n",
       " '052_S_6844',\n",
       " '098_S_2071',\n",
       " '305_S_6742',\n",
       " '007_S_6341',\n",
       " '014_S_2185',\n",
       " '073_S_4825',\n",
       " '114_S_6597',\n",
       " '137_S_6693',\n",
       " '128_S_4603',\n",
       " '127_S_2234',\n",
       " '002_S_4654',\n",
       " '068_S_4914',\n",
       " '128_S_4745',\n",
       " '109_S_4594',\n",
       " '022_S_6716',\n",
       " '941_S_6017',\n",
       " '130_S_6604',\n",
       " '016_S_2031',\n",
       " '130_S_6612',\n",
       " '016_S_6771',\n",
       " '070_S_6236',\n",
       " '053_S_4813',\n",
       " '035_S_2074',\n",
       " '018_S_6414',\n",
       " '019_S_4548',\n",
       " '116_S_4199',\n",
       " '072_S_4610',\n",
       " '041_S_4051',\n",
       " '073_S_4360',\n",
       " '019_S_6483',\n",
       " '002_S_2010',\n",
       " '037_S_4381',\n",
       " '032_S_2119',\n",
       " '006_S_6727',\n",
       " '114_S_2392',\n",
       " '073_S_4311',\n",
       " '021_S_4633',\n",
       " '035_S_4085',\n",
       " '021_S_2124',\n",
       " '127_S_2213',\n",
       " '109_S_6364',\n",
       " '016_S_4646',\n",
       " '072_S_4465']"
      ]
     },
     "execution_count": 24,
     "metadata": {},
     "output_type": "execute_result"
    }
   ],
   "source": [
    "subject_in"
   ]
  },
  {
   "cell_type": "code",
   "execution_count": 25,
   "metadata": {},
   "outputs": [
    {
     "data": {
      "text/plain": [
       "200"
      ]
     },
     "execution_count": 25,
     "metadata": {},
     "output_type": "execute_result"
    }
   ],
   "source": [
    "len(subject_in)"
   ]
  },
  {
   "cell_type": "code",
   "execution_count": null,
   "metadata": {},
   "outputs": [],
   "source": [
    "# for root, dirs, files in os.walk(nii_all_path):\n",
    "#     for name in files:\n",
    "#         subject = root.split('/')[6]\n",
    "# #         print(subject)\n",
    "#         if subject not in amyloid_list:\n",
    "#             path = os.path.join(root, name)\n",
    "#             print(subject)\n",
    "# #             subprocess.call(['test.sh',MCI_id,subject,path],shell=True)\n",
    "#             !bl dataset upload --project \"5e44ab0a1eafff87c0f93fe3\" --datatype neuro/anat/t1w --subject $subject --session 1 --t1 $path -t \"amyloid_negative\" --desc 'This is amyloid negative subject'\n",
    "\n"
   ]
  },
  {
   "cell_type": "code",
   "execution_count": 16,
   "metadata": {},
   "outputs": [
    {
     "name": "stdout",
     "output_type": "stream",
     "text": [
      "011_S_6618\n"
     ]
    },
    {
     "ename": "OSError",
     "evalue": "Background processes not supported.",
     "output_type": "error",
     "traceback": [
      "\u001b[0;31m---------------------------------------------------------------------------\u001b[0m",
      "\u001b[0;31mOSError\u001b[0m                                   Traceback (most recent call last)",
      "\u001b[0;32m<ipython-input-16-2d229769e947>\u001b[0m in \u001b[0;36m<module>\u001b[0;34m\u001b[0m\n\u001b[1;32m      7\u001b[0m             \u001b[0mprint\u001b[0m\u001b[0;34m(\u001b[0m\u001b[0msubject\u001b[0m\u001b[0;34m)\u001b[0m\u001b[0;34m\u001b[0m\u001b[0;34m\u001b[0m\u001b[0m\n\u001b[1;32m      8\u001b[0m \u001b[0;31m#             subprocess.call(['test.sh',MCI_id,subject,path],shell=True)\u001b[0m\u001b[0;34m\u001b[0m\u001b[0;34m\u001b[0m\u001b[0;34m\u001b[0m\u001b[0m\n\u001b[0;32m----> 9\u001b[0;31m             \u001b[0mget_ipython\u001b[0m\u001b[0;34m(\u001b[0m\u001b[0;34m)\u001b[0m\u001b[0;34m.\u001b[0m\u001b[0msystem\u001b[0m\u001b[0;34m(\u001b[0m\u001b[0;34m'nohup bl dataset upload --project \"5e44ab0a1eafff87c0f93fe3\" --datatype neuro/anat/t1w --subject $subject --session 1 --t1 $path -t \"amyloid_negative\" --desc \\'This is amyloid negative subject\\' &'\u001b[0m\u001b[0;34m)\u001b[0m\u001b[0;34m\u001b[0m\u001b[0;34m\u001b[0m\u001b[0m\n\u001b[0m\u001b[1;32m     10\u001b[0m \u001b[0;34m\u001b[0m\u001b[0m\n",
      "\u001b[0;32m~/anaconda3/envs/spm/lib/python3.6/site-packages/IPython/core/interactiveshell.py\u001b[0m in \u001b[0;36msystem_piped\u001b[0;34m(self, cmd)\u001b[0m\n\u001b[1;32m   2449\u001b[0m             \u001b[0;31m# os.system() or use ip.system=ip.system_raw\u001b[0m\u001b[0;34m\u001b[0m\u001b[0;34m\u001b[0m\u001b[0;34m\u001b[0m\u001b[0m\n\u001b[1;32m   2450\u001b[0m             \u001b[0;31m# if they really want a background process.\u001b[0m\u001b[0;34m\u001b[0m\u001b[0;34m\u001b[0m\u001b[0;34m\u001b[0m\u001b[0m\n\u001b[0;32m-> 2451\u001b[0;31m             \u001b[0;32mraise\u001b[0m \u001b[0mOSError\u001b[0m\u001b[0;34m(\u001b[0m\u001b[0;34m\"Background processes not supported.\"\u001b[0m\u001b[0;34m)\u001b[0m\u001b[0;34m\u001b[0m\u001b[0;34m\u001b[0m\u001b[0m\n\u001b[0m\u001b[1;32m   2452\u001b[0m \u001b[0;34m\u001b[0m\u001b[0m\n\u001b[1;32m   2453\u001b[0m         \u001b[0;31m# we explicitly do NOT return the subprocess status code, because\u001b[0m\u001b[0;34m\u001b[0m\u001b[0;34m\u001b[0m\u001b[0;34m\u001b[0m\u001b[0m\n",
      "\u001b[0;31mOSError\u001b[0m: Background processes not supported."
     ]
    }
   ],
   "source": [
    "for root, dirs, files in os.walk(nii_all_path):\n",
    "    for name in files:\n",
    "        subject = root.split('/')[6]\n",
    "#         print(subject)\n",
    "        if subject not in amyloid_list and subject not in subject_in:\n",
    "            path = os.path.join(root, name)\n",
    "            print(subject)\n",
    "#             subprocess.call(['test.sh',MCI_id,subject,path],shell=True)\n",
    "            !bl dataset upload --project \"5e44ab0a1eafff87c0f93fe3\" --datatype neuro/anat/t1w --subject $subject --session 1 --t1 $path -t \"amyloid_negative\" --desc 'This is amyloid negative subject'\n",
    "\n"
   ]
  },
  {
   "cell_type": "code",
   "execution_count": 17,
   "metadata": {},
   "outputs": [
    {
     "name": "stdout",
     "output_type": "stream",
     "text": [
      "This is a text for myself\r\n"
     ]
    }
   ],
   "source": [
    "!bash test.sh"
   ]
  },
  {
   "cell_type": "code",
   "execution_count": null,
   "metadata": {},
   "outputs": [],
   "source": [
    "subprocess.run(['ls', '-l'],shell=True)"
   ]
  },
  {
   "cell_type": "code",
   "execution_count": null,
   "metadata": {},
   "outputs": [],
   "source": []
  },
  {
   "cell_type": "code",
   "execution_count": null,
   "metadata": {},
   "outputs": [],
   "source": []
  },
  {
   "cell_type": "code",
   "execution_count": null,
   "metadata": {},
   "outputs": [],
   "source": []
  },
  {
   "cell_type": "code",
   "execution_count": null,
   "metadata": {},
   "outputs": [],
   "source": []
  },
  {
   "cell_type": "code",
   "execution_count": null,
   "metadata": {},
   "outputs": [],
   "source": []
  },
  {
   "cell_type": "code",
   "execution_count": null,
   "metadata": {},
   "outputs": [],
   "source": []
  }
 ],
 "metadata": {
  "kernelspec": {
   "display_name": "Python 3",
   "language": "python",
   "name": "python3"
  },
  "language_info": {
   "codemirror_mode": {
    "name": "ipython",
    "version": 3
   },
   "file_extension": ".py",
   "mimetype": "text/x-python",
   "name": "python",
   "nbconvert_exporter": "python",
   "pygments_lexer": "ipython3",
   "version": "3.6.9"
  }
 },
 "nbformat": 4,
 "nbformat_minor": 4
}
