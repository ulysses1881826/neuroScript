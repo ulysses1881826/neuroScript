{
 "cells": [
  {
   "cell_type": "code",
   "execution_count": 29,
   "metadata": {},
   "outputs": [],
   "source": [
    "import sklearn\n",
    "import numpy as np\n",
    "import pandas as pd\n",
    "import os\n",
    "import requests\n",
    "import json\n",
    "import numpy as np\n",
    "from sklearn.model_selection import train_test_split\n",
    "from sklearn import datasets\n",
    "from sklearn.neural_network import MLPClassifier\n",
    "from sklearn import svm"
   ]
  },
  {
   "cell_type": "markdown",
   "metadata": {},
   "source": [
    "模型想法：\n"
   ]
  },
  {
   "cell_type": "code",
   "execution_count": 3,
   "metadata": {},
   "outputs": [
    {
     "name": "stdout",
     "output_type": "stream",
     "text": [
      "README.md                          extractVolumesForSubtypes.ipynb\r\n",
      "aimedSubFolderNameListMake.sh      makeSpecificPeopleCSV.ipynb\r\n",
      "atrophyModelBuild.ipynb            merge_folder.ipynb\r\n",
      "convertFreesurferOutput2CSV.ipynb  nohup.out\r\n",
      "\u001b[0m\u001b[01;34mcsvFiles\u001b[0m/                          uploadNiiToBrainIo.ipynb\r\n",
      "dicomToNii.ipynb                   uploadNiiToBrainIo.sh\r\n",
      "downloadFreesurferOutput.sh\r\n"
     ]
    }
   ],
   "source": [
    "ls"
   ]
  },
  {
   "cell_type": "code",
   "execution_count": 4,
   "metadata": {},
   "outputs": [
    {
     "name": "stdout",
     "output_type": "stream",
     "text": [
      "ADNIMERGE.csv\r\n",
      "AD_all.csv\r\n",
      "AM1.csv\r\n",
      "CM1.csv\r\n",
      "CN_amyloid_pos.csv\r\n",
      "Freesurfer_S1200_Extensively_Processed_fMRI_Data.csv\r\n",
      "MCISubtypesFeatures.csv\r\n",
      "MCI_all.csv\r\n",
      "MCI_amyloid_pos.csv\r\n",
      "MCI_amyloid_pos_freeStatsOut.csv\r\n",
      "MM1.csv\r\n",
      "Stats_S1200_Extensively_Processed_fMRI_Data.csv\r\n",
      "freeStatsOut.csv\r\n"
     ]
    }
   ],
   "source": [
    "ls ./csvFiles/"
   ]
  },
  {
   "cell_type": "code",
   "execution_count": 5,
   "metadata": {},
   "outputs": [],
   "source": [
    "csvPath = \"/home/ubuntu/Desktop/ADNI_MRI_Image/neuroScript/csvFiles\""
   ]
  },
  {
   "cell_type": "code",
   "execution_count": 86,
   "metadata": {},
   "outputs": [],
   "source": [
    "volner = pd.read_csv(os.path.join(csvPath,\"Freesurfer_S1200_Extensively_Processed_fMRI_Data.csv\"))\n",
    "volner = volner.dropna()\n",
    "MCI_freesurfer_Out = pd.read_csv(os.path.join(csvPath,\"MCI_amyloid_pos_freeStatsOut.csv\"))\n",
    "volner['Label'] = 0\n",
    "MCI_freesurfer_Out['Label'] = 1"
   ]
  },
  {
   "cell_type": "code",
   "execution_count": 87,
   "metadata": {},
   "outputs": [],
   "source": [
    "all_data = pd.concat([volner, MCI_freesurfer_Out], axis=0, sort=False)"
   ]
  },
  {
   "cell_type": "code",
   "execution_count": 68,
   "metadata": {},
   "outputs": [],
   "source": [
    "all_data.to_csv(os.path.join(csvPath,'all_data_0307.csv'))"
   ]
  },
  {
   "cell_type": "code",
   "execution_count": 11,
   "metadata": {},
   "outputs": [],
   "source": [
    "features = ['FS_L_ThalamusProper_Vol', 'FS_L_Caudate_Vol', 'FS_L_Putamen_Vol', 'FS_L_Pallidum_Vol', \n",
    "            'FS_L_Hippo_Vol', 'FS_L_Amygdala_Vol', 'FS_L_AccumbensArea_Vol', 'FS_R_ThalamusProper_Vol', \n",
    "            'FS_R_Caudate_Vol', 'FS_R_Putamen_Vol', 'FS_R_Pallidum_Vol', 'FS_R_Hippo_Vol', 'FS_R_Amygdala_Vol', \n",
    "            'FS_R_AccumbensArea_Vol', 'FS_L_Bankssts_Thck', 'FS_L_Caudalanteriorcingulate_Thck', \n",
    "            'FS_L_Caudalmiddlefrontal_Thck', 'FS_L_Cuneus_Thck', 'FS_L_Entorhinal_Thck', 'FS_L_Fusiform_Thck', \n",
    "            'FS_L_Inferiorparietal_Thck', 'FS_L_Inferiortemporal_Thck', 'FS_L_Isthmuscingulate_Thck', \n",
    "            'FS_L_Lateraloccipital_Thck', 'FS_L_Lateralorbitofrontal_Thck', 'FS_L_Lingual_Thck', \n",
    "            'FS_L_Medialorbitofrontal_Thck', 'FS_L_Middletemporal_Thck', 'FS_L_Parahippocampal_Thck', \n",
    "            'FS_L_Paracentral_Thck', 'FS_L_Parsopercularis_Thck', 'FS_L_Parsorbitalis_Thck', \n",
    "            'FS_L_Parstriangularis_Thck', 'FS_L_Pericalcarine_Thck', 'FS_L_Postcentral_Thck', \n",
    "            'FS_L_Posteriorcingulate_Thck', 'FS_L_Precentral_Thck', 'FS_L_Precuneus_Thck', \n",
    "            'FS_L_Rostralanteriorcingulate_Thck', 'FS_L_Rostralmiddlefrontal_Thck', 'FS_L_Superiorfrontal_Thck', \n",
    "            'FS_L_Superiorparietal_Thck', 'FS_L_Superiortemporal_Thck', 'FS_L_Supramarginal_Thck', \n",
    "            'FS_L_Frontalpole_Thck', 'FS_L_Temporalpole_Thck', 'FS_L_Transversetemporal_Thck', \n",
    "            'FS_L_Insula_Thck', 'FS_R_Bankssts_Thck', 'FS_R_Caudalanteriorcingulate_Thck', \n",
    "            'FS_R_Caudalmiddlefrontal_Thck', 'FS_R_Cuneus_Thck', 'FS_R_Entorhinal_Thck', 'FS_R_Fusiform_Thck', \n",
    "            'FS_R_Inferiorparietal_Thck', 'FS_R_Inferiortemporal_Thck', 'FS_R_Isthmuscingulate_Thck', \n",
    "            'FS_R_Lateraloccipital_Thck', 'FS_R_Lateralorbitofrontal_Thck', 'FS_R_Lingual_Thck', \n",
    "            'FS_R_Medialorbitofrontal_Thck', 'FS_R_Middletemporal_Thck', 'FS_R_Parahippocampal_Thck', \n",
    "            'FS_R_Paracentral_Thck', 'FS_R_Parsopercularis_Thck', 'FS_R_Parsorbitalis_Thck', \n",
    "            'FS_R_Parstriangularis_Thck', 'FS_R_Pericalcarine_Thck', 'FS_R_Postcentral_Thck', \n",
    "            'FS_R_Posteriorcingulate_Thck', 'FS_R_Precentral_Thck', 'FS_R_Precuneus_Thck', \n",
    "            'FS_R_Rostralanteriorcingulate_Thck', 'FS_R_Rostralmiddlefrontal_Thck', \n",
    "            'FS_R_Superiorfrontal_Thck', 'FS_R_Superiorparietal_Thck', 'FS_R_Superiortemporal_Thck',\n",
    "            'FS_R_Supramarginal_Thck', 'FS_R_Frontalpole_Thck', 'FS_R_Temporalpole_Thck', \n",
    "            'FS_R_Transversetemporal_Thck', 'FS_R_Insula_Thck']"
   ]
  },
  {
   "cell_type": "code",
   "execution_count": 91,
   "metadata": {},
   "outputs": [],
   "source": [
    "##Convert pd.Dataframe to feature(np.array) here ## with label here\n",
    "def Convert2FeatureVectorWithLabel(pdFrame):\n",
    "    pdFrame['reverse_FS_BrainSeg_Vol_No_Vent_Surf'] = 1.0 / pdFrame['FS_BrainSeg_Vol_No_Vent_Surf']\n",
    "    X = []\n",
    "    x =[]\n",
    "    weighted_mean_feature_dict = {}\n",
    "    for feature in features:\n",
    "        if feature.split('_')[-1] == 'Thck':\n",
    "            feature_area = feature[0:-4] + 'Area'\n",
    "            weighted_mean_feature_dict[feature] = (pdFrame[feature] * pdFrame[feature_area]).sum() / pdFrame[feature_area].sum()\n",
    "        if feature.split('_')[-1] == 'Vol':\n",
    "            weighted_mean_feature_dict[feature] = (pdFrame[feature] * pdFrame['reverse_FS_BrainSeg_Vol_No_Vent_Surf']).sum() / pdFrame['reverse_FS_BrainSeg_Vol_No_Vent_Surf'].sum()   \n",
    "    variance_feature_dict = {}\n",
    "    for feature in features:\n",
    "        if feature.split('_')[-1] == 'Thck':\n",
    "            feature_area = feature[0:-4] + 'Area'\n",
    "            variance_feature_dict[feature] = np.sqrt((pdFrame[feature_area] * np.square(pdFrame[feature] - weighted_mean_feature_dict[feature])).sum() / (pdFrame[feature_area].sum() - (np.square(pdFrame[feature_area])).sum() / pdFrame[feature_area].sum()))\n",
    "        if feature.split('_')[-1] == 'Vol':\n",
    "            variance_feature_dict[feature] = np.sqrt((pdFrame[\"reverse_FS_BrainSeg_Vol_No_Vent_Surf\"] * np.square(pdFrame[feature] - weighted_mean_feature_dict[feature])).sum() / (pdFrame[\"reverse_FS_BrainSeg_Vol_No_Vent_Surf\"].sum() - (np.square(pdFrame[\"reverse_FS_BrainSeg_Vol_No_Vent_Surf\"])).sum() / pdFrame[\"reverse_FS_BrainSeg_Vol_No_Vent_Surf\"].sum()))\n",
    "    for index,row in pdFrame.iterrows():\n",
    "        for feature in features:\n",
    "            x.append((np.float(row[feature]) - weighted_mean_feature_dict[feature]) / variance_feature_dict[feature])\n",
    "        x.append(row['Label'])\n",
    "        X.append(x)\n",
    "        x =[]\n",
    "        if len(X) % 100 == 0:\n",
    "            print(\"finish 100\")\n",
    "    X = np.array(X)\n",
    "    return X\n",
    "\n"
   ]
  },
  {
   "cell_type": "code",
   "execution_count": 84,
   "metadata": {},
   "outputs": [],
   "source": [
    "##Convert pd.Dataframe to feature(np.array) here ## No label here\n",
    "def Convert2FeatureVector(pdFrame):\n",
    "    pdFrame = pdFrame.dropna()\n",
    "    pdFrame['reverse_FS_BrainSeg_Vol_No_Vent_Surf'] = 1.0 / pdFrame['FS_BrainSeg_Vol_No_Vent_Surf']\n",
    "    X = []\n",
    "    x =[]\n",
    "    weighted_mean_feature_dict = {}\n",
    "    for feature in features:\n",
    "        if feature.split('_')[-1] == 'Thck':\n",
    "            feature_area = feature[0:-4] + 'Area'\n",
    "            weighted_mean_feature_dict[feature] = (pdFrame[feature] * pdFrame[feature_area]).sum() / pdFrame[feature_area].sum()\n",
    "        if feature.split('_')[-1] == 'Vol':\n",
    "            weighted_mean_feature_dict[feature] = (pdFrame[feature] * pdFrame['reverse_FS_BrainSeg_Vol_No_Vent_Surf']).sum() / pdFrame['reverse_FS_BrainSeg_Vol_No_Vent_Surf'].sum()   \n",
    "    variance_feature_dict = {}\n",
    "    for feature in features:\n",
    "        if feature.split('_')[-1] == 'Thck':\n",
    "            feature_area = feature[0:-4] + 'Area'\n",
    "            variance_feature_dict[feature] = np.sqrt((pdFrame[feature_area] * np.square(pdFrame[feature] - weighted_mean_feature_dict[feature])).sum() / (pdFrame[feature_area].sum() - (np.square(pdFrame[feature_area])).sum() / pdFrame[feature_area].sum()))\n",
    "        if feature.split('_')[-1] == 'Vol':\n",
    "            variance_feature_dict[feature] = np.sqrt((pdFrame[\"reverse_FS_BrainSeg_Vol_No_Vent_Surf\"] * np.square(pdFrame[feature] - weighted_mean_feature_dict[feature])).sum() / (pdFrame[\"reverse_FS_BrainSeg_Vol_No_Vent_Surf\"].sum() - (np.square(pdFrame[\"reverse_FS_BrainSeg_Vol_No_Vent_Surf\"])).sum() / pdFrame[\"reverse_FS_BrainSeg_Vol_No_Vent_Surf\"].sum()))\n",
    "    for index,row in pdFrame.iterrows():\n",
    "        for feature in features:\n",
    "            x.append((np.float(row[feature]) - weighted_mean_feature_dict[feature]) / variance_feature_dict[feature])\n",
    "        X.append(x)\n",
    "        x =[]\n",
    "        if len(X) % 100 == 0:\n",
    "            print(\"finish 100\")\n",
    "    X = np.array(X)\n",
    "    return X\n",
    "\n"
   ]
  },
  {
   "cell_type": "code",
   "execution_count": 100,
   "metadata": {
    "scrolled": true
   },
   "outputs": [
    {
     "name": "stdout",
     "output_type": "stream",
     "text": [
      "finish 100\n",
      "finish 100\n",
      "finish 100\n",
      "finish 100\n",
      "finish 100\n",
      "finish 100\n",
      "finish 100\n",
      "finish 100\n",
      "finish 100\n",
      "finish 100\n",
      "finish 100\n",
      "finish 100\n",
      "finish 100\n",
      "finish 100\n",
      "(1415, 83)\n",
      "(1415, 82) (1415,)\n"
     ]
    },
    {
     "data": {
      "text/plain": [
       "0.9952941176470588"
      ]
     },
     "execution_count": 100,
     "metadata": {},
     "output_type": "execute_result"
    }
   ],
   "source": [
    "Vector_with_Label = Convert2FeatureVectorWithLabel(all_data)\n",
    "print(Vector_with_Label.shape)\n",
    "\n",
    "print(Vector_with_Label[:,0:-1].shape,Vector_with_Label[:,-1].shape)\n",
    "X = Vector_with_Label[:,0:-1]\n",
    "y = Vector_with_Label[:,-1]\n",
    "X_train, X_test, y_train, y_test = train_test_split(X, y, test_size=0.3, random_state=0)\n",
    "\n",
    "clf = MLPClassifier(solver='lbfgs', alpha=1e-5,hidden_layer_sizes=(64,64), random_state=1,max_iter=700)\n",
    "clf.fit(X_train,y_train)\n",
    "clf.score(X_test, y_test)"
   ]
  },
  {
   "cell_type": "code",
   "execution_count": 98,
   "metadata": {},
   "outputs": [
    {
     "name": "stdout",
     "output_type": "stream",
     "text": [
      "finish 100\n",
      "finish 100\n",
      "finish 100\n",
      "finish 100\n",
      "finish 100\n",
      "finish 100\n",
      "finish 100\n",
      "finish 100\n",
      "finish 100\n",
      "finish 100\n",
      "finish 100\n",
      "finish 100\n",
      "finish 100\n",
      "finish 100\n",
      "(302,) (1113,)\n",
      "(1415,)\n"
     ]
    },
    {
     "data": {
      "text/plain": [
       "0.7435294117647059"
      ]
     },
     "execution_count": 98,
     "metadata": {},
     "output_type": "execute_result"
    }
   ],
   "source": [
    "MCI_vector = Convert2FeatureVector(MCI_freesurfer_Out)\n",
    "MCI_vector.shape\n",
    "\n",
    "volner_vector = Convert2FeatureVector(volner)\n",
    "volner_vector.shape\n",
    "\n",
    "MCI_label = np.ones(302)\n",
    "volner_label = np.zeros(1113)\n",
    "print(MCI_label.shape,volner_label.shape)\n",
    "y = np.concatenate((MCI_label,volner_label))\n",
    "print(y.shape)\n",
    "\n",
    "X = np.concatenate((MCI_vector,volner_vector))\n",
    "X.shape\n",
    "\n",
    "X_train, X_test, y_train, y_test = train_test_split(X, y, test_size=0.3, random_state=0)\n",
    "\n",
    "clf = MLPClassifier(solver='lbfgs', alpha=1e-5,hidden_layer_sizes=(64,128), random_state=1,max_iter=700)\n",
    "clf.fit(X_train,y_train)\n",
    "clf.score(X_test, y_test)"
   ]
  },
  {
   "cell_type": "code",
   "execution_count": null,
   "metadata": {},
   "outputs": [],
   "source": []
  },
  {
   "cell_type": "code",
   "execution_count": null,
   "metadata": {},
   "outputs": [],
   "source": []
  },
  {
   "cell_type": "code",
   "execution_count": null,
   "metadata": {},
   "outputs": [],
   "source": []
  },
  {
   "cell_type": "code",
   "execution_count": 58,
   "metadata": {},
   "outputs": [
    {
     "data": {
      "text/plain": [
       "0.9777777777777777"
      ]
     },
     "execution_count": 58,
     "metadata": {},
     "output_type": "execute_result"
    }
   ],
   "source": [
    "X, y = datasets.load_iris(return_X_y=True)\n",
    "X_train, X_test, y_train, y_test = train_test_split(X, y, test_size=0.3, random_state=0)\n",
    "clf = MLPClassifier(solver='lbfgs', alpha=1e-5,hidden_layer_sizes=(64,100), random_state=1,max_iter=700).fit(X_train, y_train)\n",
    "clf.score(X_test, y_test)\n"
   ]
  },
  {
   "cell_type": "code",
   "execution_count": null,
   "metadata": {},
   "outputs": [],
   "source": []
  },
  {
   "cell_type": "code",
   "execution_count": null,
   "metadata": {},
   "outputs": [],
   "source": []
  },
  {
   "cell_type": "code",
   "execution_count": null,
   "metadata": {},
   "outputs": [],
   "source": []
  },
  {
   "cell_type": "code",
   "execution_count": null,
   "metadata": {},
   "outputs": [],
   "source": []
  },
  {
   "cell_type": "code",
   "execution_count": null,
   "metadata": {},
   "outputs": [],
   "source": []
  },
  {
   "cell_type": "code",
   "execution_count": null,
   "metadata": {},
   "outputs": [],
   "source": []
  },
  {
   "cell_type": "code",
   "execution_count": null,
   "metadata": {},
   "outputs": [],
   "source": []
  },
  {
   "cell_type": "code",
   "execution_count": 8,
   "metadata": {},
   "outputs": [],
   "source": [
    "volner_no_Nan = volner.dropna()"
   ]
  },
  {
   "cell_type": "code",
   "execution_count": 15,
   "metadata": {
    "scrolled": true
   },
   "outputs": [
    {
     "data": {
      "text/plain": [
       "{'FS_L_ThalamusProper_Vol': 8383.401946037651,\n",
       " 'FS_L_Caudate_Vol': 3779.548552416655,\n",
       " 'FS_L_Putamen_Vol': 5477.463380741111,\n",
       " 'FS_L_Pallidum_Vol': 1352.1266204666742,\n",
       " 'FS_L_Hippo_Vol': 4388.28864820358,\n",
       " 'FS_L_Amygdala_Vol': 1540.2196256337984,\n",
       " 'FS_L_AccumbensArea_Vol': 558.5932627442517,\n",
       " 'FS_R_ThalamusProper_Vol': 7333.339447460327,\n",
       " 'FS_R_Caudate_Vol': 3898.7400001920596,\n",
       " 'FS_R_Putamen_Vol': 5538.65931233499,\n",
       " 'FS_R_Pallidum_Vol': 1483.5419608719665,\n",
       " 'FS_R_Hippo_Vol': 4453.4554336924875,\n",
       " 'FS_R_Amygdala_Vol': 1620.485301293954,\n",
       " 'FS_R_AccumbensArea_Vol': 593.2909656174246,\n",
       " 'FS_L_Bankssts_Thck': 2.6787044633589017,\n",
       " 'FS_L_Caudalanteriorcingulate_Thck': 2.688940644010922,\n",
       " 'FS_L_Caudalmiddlefrontal_Thck': 2.731166869902166,\n",
       " 'FS_L_Cuneus_Thck': 2.0782934679172,\n",
       " 'FS_L_Entorhinal_Thck': 3.290457523055491,\n",
       " 'FS_L_Fusiform_Thck': 2.878015910355798,\n",
       " 'FS_L_Inferiorparietal_Thck': 2.5746061419971324,\n",
       " 'FS_L_Inferiortemporal_Thck': 2.9367398454142357,\n",
       " 'FS_L_Isthmuscingulate_Thck': 2.2003578215897868,\n",
       " 'FS_L_Lateraloccipital_Thck': 2.289522494447521,\n",
       " 'FS_L_Lateralorbitofrontal_Thck': 2.8106903125150375,\n",
       " 'FS_L_Lingual_Thck': 2.1739548554284176,\n",
       " 'FS_L_Medialorbitofrontal_Thck': 2.5579880182959625,\n",
       " 'FS_L_Middletemporal_Thck': 2.978814025618441,\n",
       " 'FS_L_Parahippocampal_Thck': 2.703304244172357,\n",
       " 'FS_L_Paracentral_Thck': 2.5516662657871887,\n",
       " 'FS_L_Parsopercularis_Thck': 2.782615011377114,\n",
       " 'FS_L_Parsorbitalis_Thck': 2.781202256599369,\n",
       " 'FS_L_Parstriangularis_Thck': 2.634182362387263,\n",
       " 'FS_L_Pericalcarine_Thck': 1.999779042903085,\n",
       " 'FS_L_Postcentral_Thck': 2.2155166468922083,\n",
       " 'FS_L_Posteriorcingulate_Thck': 2.5571062078023776,\n",
       " 'FS_L_Precentral_Thck': 2.732419182825911,\n",
       " 'FS_L_Precuneus_Thck': 2.5184132594092814,\n",
       " 'FS_L_Rostralanteriorcingulate_Thck': 3.0228511204067026,\n",
       " 'FS_L_Rostralmiddlefrontal_Thck': 2.571458493666333,\n",
       " 'FS_L_Superiorfrontal_Thck': 2.838045410276773,\n",
       " 'FS_L_Superiorparietal_Thck': 2.284698006524755,\n",
       " 'FS_L_Superiortemporal_Thck': 2.8926238966414077,\n",
       " 'FS_L_Supramarginal_Thck': 2.6533305660629694,\n",
       " 'FS_L_Frontalpole_Thck': 2.831895852816424,\n",
       " 'FS_L_Temporalpole_Thck': 3.413397743221748,\n",
       " 'FS_L_Transversetemporal_Thck': 2.6550169274953874,\n",
       " 'FS_L_Insula_Thck': 3.0537742273724375,\n",
       " 'FS_R_Bankssts_Thck': 2.796455111591967,\n",
       " 'FS_R_Caudalanteriorcingulate_Thck': 2.4997299025538946,\n",
       " 'FS_R_Caudalmiddlefrontal_Thck': 2.7490052496661956,\n",
       " 'FS_R_Cuneus_Thck': 2.086960696083081,\n",
       " 'FS_R_Entorhinal_Thck': 3.409790622443575,\n",
       " 'FS_R_Fusiform_Thck': 2.8959748948801067,\n",
       " 'FS_R_Inferiorparietal_Thck': 2.644367018220699,\n",
       " 'FS_R_Inferiortemporal_Thck': 2.9752258021558498,\n",
       " 'FS_R_Isthmuscingulate_Thck': 2.3150436657308617,\n",
       " 'FS_R_Lateraloccipital_Thck': 2.3404957969573523,\n",
       " 'FS_R_Lateralorbitofrontal_Thck': 2.828306895155052,\n",
       " 'FS_R_Lingual_Thck': 2.188501982515618,\n",
       " 'FS_R_Medialorbitofrontal_Thck': 2.7369452404666244,\n",
       " 'FS_R_Middletemporal_Thck': 3.0527232831020985,\n",
       " 'FS_R_Parahippocampal_Thck': 2.688367632496884,\n",
       " 'FS_R_Paracentral_Thck': 2.5811081252638646,\n",
       " 'FS_R_Parsopercularis_Thck': 2.822610396401006,\n",
       " 'FS_R_Parsorbitalis_Thck': 2.83325751041392,\n",
       " 'FS_R_Parstriangularis_Thck': 2.6960277938283896,\n",
       " 'FS_R_Pericalcarine_Thck': 2.0034186910448875,\n",
       " 'FS_R_Postcentral_Thck': 2.238163889661838,\n",
       " 'FS_R_Posteriorcingulate_Thck': 2.5205447211162473,\n",
       " 'FS_R_Precentral_Thck': 2.729480346210279,\n",
       " 'FS_R_Precuneus_Thck': 2.5516396959311574,\n",
       " 'FS_R_Rostralanteriorcingulate_Thck': 3.01182393079225,\n",
       " 'FS_R_Rostralmiddlefrontal_Thck': 2.5865927940958096,\n",
       " 'FS_R_Superiorfrontal_Thck': 2.8701827240226643,\n",
       " 'FS_R_Superiorparietal_Thck': 2.3231857105809723,\n",
       " 'FS_R_Superiortemporal_Thck': 2.9455812972498374,\n",
       " 'FS_R_Supramarginal_Thck': 2.6988326174854094,\n",
       " 'FS_R_Frontalpole_Thck': 2.855339267352185,\n",
       " 'FS_R_Temporalpole_Thck': 3.6426926688468586,\n",
       " 'FS_R_Transversetemporal_Thck': 2.733771531451889,\n",
       " 'FS_R_Insula_Thck': 3.010695822382463}"
      ]
     },
     "execution_count": 15,
     "metadata": {},
     "output_type": "execute_result"
    }
   ],
   "source": [
    "weighted_mean_feature_dict"
   ]
  },
  {
   "cell_type": "code",
   "execution_count": 14,
   "metadata": {},
   "outputs": [],
   "source": [
    "weighted_mean_feature_dict = {}\n",
    "for feature in features:\n",
    "    if feature.split('_')[-1] == 'Thck':\n",
    "        feature_area = feature[0:-4] + 'Area'\n",
    "        weighted_mean_feature_dict[feature] = (volner_no_Nan[feature] * volner_no_Nan[feature_area]).sum() / volner_no_Nan[feature_area].sum()\n",
    "    if feature.split('_')[-1] == 'Vol':\n",
    "        weighted_mean_feature_dict[feature] = (volner_no_Nan[feature] * volner_no_Nan['reverse_FS_BrainSeg_Vol_No_Vent_Surf']).sum() / volner_no_Nan['reverse_FS_BrainSeg_Vol_No_Vent_Surf'].sum()   \n",
    "    "
   ]
  },
  {
   "cell_type": "code",
   "execution_count": 16,
   "metadata": {},
   "outputs": [],
   "source": [
    "variance_feature_dict = {}\n",
    "for feature in features:\n",
    "    if feature.split('_')[-1] == 'Thck':\n",
    "        feature_area = feature[0:-4] + 'Area'\n",
    "        variance_feature_dict[feature] = np.sqrt((volner_no_Nan[feature_area] * np.square(volner_no_Nan[feature] - weighted_mean_feature_dict[feature])).sum() / (volner_no_Nan[feature_area].sum() - (np.square(volner_no_Nan[feature_area])).sum() / volner_no_Nan[feature_area].sum()))\n",
    "    if feature.split('_')[-1] == 'Vol':\n",
    "        variance_feature_dict[feature] = np.sqrt((volner_no_Nan[\"reverse_FS_BrainSeg_Vol_No_Vent_Surf\"] * np.square(volner_no_Nan[feature] - weighted_mean_feature_dict[feature])).sum() / (volner_no_Nan[\"reverse_FS_BrainSeg_Vol_No_Vent_Surf\"].sum() - (np.square(volner_no_Nan[\"reverse_FS_BrainSeg_Vol_No_Vent_Surf\"])).sum() / volner_no_Nan[\"reverse_FS_BrainSeg_Vol_No_Vent_Surf\"].sum()))\n"
   ]
  },
  {
   "cell_type": "code",
   "execution_count": 9,
   "metadata": {},
   "outputs": [
    {
     "name": "stderr",
     "output_type": "stream",
     "text": [
      "/home/ubuntu/anaconda3/envs/spm/lib/python3.6/site-packages/ipykernel_launcher.py:1: SettingWithCopyWarning: \n",
      "A value is trying to be set on a copy of a slice from a DataFrame.\n",
      "Try using .loc[row_indexer,col_indexer] = value instead\n",
      "\n",
      "See the caveats in the documentation: http://pandas.pydata.org/pandas-docs/stable/user_guide/indexing.html#returning-a-view-versus-a-copy\n",
      "  \"\"\"Entry point for launching an IPython kernel.\n"
     ]
    }
   ],
   "source": [
    "volner_no_Nan['reverse_FS_BrainSeg_Vol_No_Vent_Surf'] = 1.0 / volner_no_Nan['FS_BrainSeg_Vol_No_Vent_Surf']"
   ]
  },
  {
   "cell_type": "code",
   "execution_count": 17,
   "metadata": {
    "scrolled": true
   },
   "outputs": [
    {
     "data": {
      "text/plain": [
       "{'FS_L_ThalamusProper_Vol': 912.7455088328561,\n",
       " 'FS_L_Caudate_Vol': 471.83902443396664,\n",
       " 'FS_L_Putamen_Vol': 729.6000588675457,\n",
       " 'FS_L_Pallidum_Vol': 234.6540458342281,\n",
       " 'FS_L_Hippo_Vol': 481.4536162459448,\n",
       " 'FS_L_Amygdala_Vol': 201.99980007613954,\n",
       " 'FS_L_AccumbensArea_Vol': 92.72667858508443,\n",
       " 'FS_R_ThalamusProper_Vol': 774.0151005112599,\n",
       " 'FS_R_Caudate_Vol': 482.36992390011756,\n",
       " 'FS_R_Putamen_Vol': 635.4332533471884,\n",
       " 'FS_R_Pallidum_Vol': 199.6384508796309,\n",
       " 'FS_R_Hippo_Vol': 457.26355341243976,\n",
       " 'FS_R_Amygdala_Vol': 215.27805408927637,\n",
       " 'FS_R_AccumbensArea_Vol': 99.35267964229074,\n",
       " 'FS_L_Bankssts_Thck': 0.13724280772138953,\n",
       " 'FS_L_Caudalanteriorcingulate_Thck': 0.17202413576091918,\n",
       " 'FS_L_Caudalmiddlefrontal_Thck': 0.1217081559775747,\n",
       " 'FS_L_Cuneus_Thck': 0.11453535376731407,\n",
       " 'FS_L_Entorhinal_Thck': 0.24252647120052112,\n",
       " 'FS_L_Fusiform_Thck': 0.11542213653784122,\n",
       " 'FS_L_Inferiorparietal_Thck': 0.10750365432075935,\n",
       " 'FS_L_Inferiortemporal_Thck': 0.12580944628248333,\n",
       " 'FS_L_Isthmuscingulate_Thck': 0.3957749442121961,\n",
       " 'FS_L_Lateraloccipital_Thck': 0.1069540607798996,\n",
       " 'FS_L_Lateralorbitofrontal_Thck': 0.12366471091402496,\n",
       " 'FS_L_Lingual_Thck': 0.11363567737644133,\n",
       " 'FS_L_Medialorbitofrontal_Thck': 0.15114866280943867,\n",
       " 'FS_L_Middletemporal_Thck': 0.12813425129488307,\n",
       " 'FS_L_Parahippocampal_Thck': 0.2650481870294166,\n",
       " 'FS_L_Paracentral_Thck': 0.1321936200196224,\n",
       " 'FS_L_Parsopercularis_Thck': 0.12109693625257341,\n",
       " 'FS_L_Parsorbitalis_Thck': 0.1484997997843493,\n",
       " 'FS_L_Parstriangularis_Thck': 0.12625686962450341,\n",
       " 'FS_L_Pericalcarine_Thck': 0.11598246234570661,\n",
       " 'FS_L_Postcentral_Thck': 0.1011529368375629,\n",
       " 'FS_L_Posteriorcingulate_Thck': 0.13795391805348342,\n",
       " 'FS_L_Precentral_Thck': 0.11555268794568739,\n",
       " 'FS_L_Precuneus_Thck': 0.11039614387989742,\n",
       " 'FS_L_Rostralanteriorcingulate_Thck': 0.17958916618883408,\n",
       " 'FS_L_Rostralmiddlefrontal_Thck': 0.11578190998777026,\n",
       " 'FS_L_Superiorfrontal_Thck': 0.12867226487327965,\n",
       " 'FS_L_Superiorparietal_Thck': 0.1012235751199168,\n",
       " 'FS_L_Superiortemporal_Thck': 0.12815068410388625,\n",
       " 'FS_L_Supramarginal_Thck': 0.11397558576014338,\n",
       " 'FS_L_Frontalpole_Thck': 0.2028690402225081,\n",
       " 'FS_L_Temporalpole_Thck': 0.26981692952889896,\n",
       " 'FS_L_Transversetemporal_Thck': 0.16886167862101817,\n",
       " 'FS_L_Insula_Thck': 0.14717864821791032,\n",
       " 'FS_R_Bankssts_Thck': 0.14045623414173272,\n",
       " 'FS_R_Caudalanteriorcingulate_Thck': 0.2690921917459348,\n",
       " 'FS_R_Caudalmiddlefrontal_Thck': 0.11736167492105544,\n",
       " 'FS_R_Cuneus_Thck': 0.11458893273009609,\n",
       " 'FS_R_Entorhinal_Thck': 0.24229312537495176,\n",
       " 'FS_R_Fusiform_Thck': 0.11017002451511383,\n",
       " 'FS_R_Inferiorparietal_Thck': 0.10196587183736214,\n",
       " 'FS_R_Inferiortemporal_Thck': 0.12165086077629794,\n",
       " 'FS_R_Isthmuscingulate_Thck': 0.17749869390335288,\n",
       " 'FS_R_Lateraloccipital_Thck': 0.10853998015335188,\n",
       " 'FS_R_Lateralorbitofrontal_Thck': 0.1242998944011939,\n",
       " 'FS_R_Lingual_Thck': 0.11640382278131793,\n",
       " 'FS_R_Medialorbitofrontal_Thck': 0.13494169671058234,\n",
       " 'FS_R_Middletemporal_Thck': 0.1241570812950479,\n",
       " 'FS_R_Parahippocampal_Thck': 0.21369062900086508,\n",
       " 'FS_R_Paracentral_Thck': 0.12762536234500096,\n",
       " 'FS_R_Parsopercularis_Thck': 0.1220330596834708,\n",
       " 'FS_R_Parsorbitalis_Thck': 0.15223454821522944,\n",
       " 'FS_R_Parstriangularis_Thck': 0.12187870327144236,\n",
       " 'FS_R_Pericalcarine_Thck': 0.12254243224969012,\n",
       " 'FS_R_Postcentral_Thck': 0.10210604468829311,\n",
       " 'FS_R_Posteriorcingulate_Thck': 0.16302940459490675,\n",
       " 'FS_R_Precentral_Thck': 0.11258294215021182,\n",
       " 'FS_R_Precuneus_Thck': 0.11040065628392809,\n",
       " 'FS_R_Rostralanteriorcingulate_Thck': 0.19733567680429456,\n",
       " 'FS_R_Rostralmiddlefrontal_Thck': 0.11487351764528962,\n",
       " 'FS_R_Superiorfrontal_Thck': 0.12673181320697963,\n",
       " 'FS_R_Superiorparietal_Thck': 0.0998129404998916,\n",
       " 'FS_R_Superiortemporal_Thck': 0.12686113430361243,\n",
       " 'FS_R_Supramarginal_Thck': 0.1115753572525111,\n",
       " 'FS_R_Frontalpole_Thck': 0.20270839871284885,\n",
       " 'FS_R_Temporalpole_Thck': 0.29961657708668754,\n",
       " 'FS_R_Transversetemporal_Thck': 0.16740683448558039,\n",
       " 'FS_R_Insula_Thck': 0.14099423539431546}"
      ]
     },
     "execution_count": 17,
     "metadata": {},
     "output_type": "execute_result"
    }
   ],
   "source": [
    "variance_feature_dict"
   ]
  },
  {
   "cell_type": "code",
   "execution_count": 26,
   "metadata": {},
   "outputs": [
    {
     "name": "stdout",
     "output_type": "stream",
     "text": [
      "finish 100\n",
      "finish 100\n",
      "finish 100\n",
      "finish 100\n",
      "finish 100\n",
      "finish 100\n",
      "finish 100\n",
      "finish 100\n",
      "finish 100\n",
      "finish 100\n",
      "finish 100\n",
      "(1113, 82)\n"
     ]
    }
   ],
   "source": [
    "X = []\n",
    "x =[]\n",
    "for index,row in volner_no_Nan.iterrows():\n",
    "    for feature in features:\n",
    "        x.append((np.float(row[feature]) - weighted_mean_feature_dict[feature]) / variance_feature_dict[feature])\n",
    "    X.append(x)\n",
    "    x =[]\n",
    "    if len(X) % 100 == 0:\n",
    "        print(\"finish 100\")\n",
    "X = np.array(X)      \n",
    "print(X.shape)"
   ]
  },
  {
   "cell_type": "code",
   "execution_count": null,
   "metadata": {},
   "outputs": [],
   "source": [
    "selectFeatures2 = [\"left-wthi-bankssts\",\"left-wthi-caudalanteriorcingulate\",\"left-wthi-caudalmiddlefrontal\",\n",
    "                  \"left-wthi-cuneus\",\"left-wthi-entorhinal\",\"left-wthi-fusiform\",\"left-wthi-inferiorparietal\",\n",
    "                  \"left-wthi-inferiortemporal\",\"left-wthi-isthmuscingulate\",\"left-wthi-lateraloccipital\",\n",
    "                  \"left-wthi-lateralorbitofrontal\",\"left-wthi-lingual\",\"left-wthi-medialorbitofrontal\",\n",
    "                  \"left-wthi-middletemporal\",\"left-wthi-parahippocampal\",\"left-wthi-paracentral\",\n",
    "                  \"left-wthi-parsopercularis\",\"left-wthi-parsorbitalis\",\"left-wthi-parstriangularis\",\n",
    "                  \"left-wthi-pericalcarine\",\"left-wthi-postcentral\",\"left-wthi-posteriorcingulate\",\n",
    "                  \"left-wthi-precentral\",\"left-wthi-precuneus\",\"left-wthi-rostralanteriorcingulate\",\n",
    "                  \"left-wthi-rostralmiddlefrontal\",\"left-wthi-superiorfrontal\",\"left-wthi-superiorparietal\",\n",
    "                  \"left-wthi-superiortemporal\",\"left-wthi-supramarginal\",\"left-wthi-frontalpole\",\n",
    "                  \"left-wthi-temporalpole\",\"left-wthi-transversetemporal\",\"left-wthi-insula\",\"right-wthi-bankssts\",\n",
    "                  \"right-wthi-caudalanteriorcingulate\",\"right-wthi-caudalmiddlefrontal\",\"right-wthi-cuneus\",\n",
    "                  \"right-wthi-entorhinal\",\"right-wthi-fusiform\",\"right-wthi-inferiorparietal\",\n",
    "                  \"right-wthi-inferiortemporal\",\"right-wthi-isthmuscingulate\",\"right-wthi-lateraloccipital\",\n",
    "                  \"right-wthi-lateralorbitofrontal\",\"right-wthi-lingual\",\"right-wthi-medialorbitofrontal\",\n",
    "                  \"right-wthi-middletemporal\",\"right-wthi-parahippocampal\",\"right-wthi-paracentral\",\n",
    "                  \"right-wthi-parsopercularis\",\"right-wthi-parsorbitalis\",\"right-wthi-parstriangularis\",\n",
    "                  \"right-wthi-pericalcarine\",\"right-wthi-postcentral\",\"right-wthi-posteriorcingulate\",\n",
    "                  \"right-wthi-precentral\",\"right-wthi-precuneus\",\"right-wthi-rostralanteriorcingulate\",\n",
    "                  \"right-wthi-rostralmiddlefrontal\",\"right-wthi-superiorfrontal\",\"right-wthi-superiorparietal\",\n",
    "                  \"right-wthi-superiortemporal\",\"right-wthi-supramarginal\",\"right-wthi-frontalpole\",\n",
    "                  \"right-wthi-temporalpole\",\"right-wthi-transversetemporal\",\"right-wthi-insula\",\n",
    "                  \"right-svol-Thalamus\",\"right-svol-Caudate\",\"right-svol-Putamen\",\"right-svol-Pallidum\",\n",
    "                  \"right-svol-Hippocampus\",\"right-svol-Amygdala\",\"right-svol-Accumbens\",\"left-svol-Thalamus\",\n",
    "                  \"left-svol-Caudate\",\"left-svol-Putamen\",\"left-svol-Pallidum\",\"left-svol-Hippocampus\",\n",
    "                  \"left-svol-Amygdala\",\"left-svol-Accumbens\"]"
   ]
  },
  {
   "cell_type": "code",
   "execution_count": null,
   "metadata": {},
   "outputs": [],
   "source": [
    "#load the jwt token (run bl login to create this file)\n",
    "jwt_file = open(os.environ['HOME']+'/.config/brainlife.io/.jwt', mode='r')\n",
    "jwt = jwt_file.read()\n",
    "#query datasets records\n",
    "find = { \n",
    "    '_group_id': '69', #see project detail page \n",
    "    'service': 'brainlife/app-freesurfer', \n",
    "    #'service_branch': '0.0.5',\n",
    "    'status': 'finished' }\n",
    "params = { \n",
    "    'limit': 100, \n",
    "    'select': 'config._inputs.meta', #we just want product and meta\n",
    "    'find': json.JSONEncoder().encode(find) }\n",
    "res = requests.get('https://brainlife.io/api/amaretti/task', params=params, headers={'Authorization': 'Bearer '+jwt})\n",
    "if res.status_code != 200:\n",
    "    raise Exception(\"failed to download datasets list:\"+res.status_code)\n",
    "tasks = res.json()[\"tasks\"]\n",
    "for task in tasks:\n",
    "    taskid=task[\"_id\"]\n",
    "    subject=task[\"config\"][\"_inputs\"][0][\"meta\"][\"subject\"]\n",
    "    print(taskid, subject)\n",
    "    url = 'https://brainlife.io/api/amaretti/task/download/'+taskid+'/freesurfer/output/stats?at='+jwt\n",
    "    res = requests.get(url, allow_redirects=True)\n",
    "    open(subject+'.tar.gz', 'wb').write(res.content)"
   ]
  },
  {
   "cell_type": "code",
   "execution_count": null,
   "metadata": {},
   "outputs": [],
   "source": [
    "res = requests.get('https://brainlife.io/api/amaretti/resource',headers={'Authorization': 'Bearer '+jwt})"
   ]
  },
  {
   "cell_type": "code",
   "execution_count": null,
   "metadata": {},
   "outputs": [],
   "source": [
    "#This verison is for all volume feature\n",
    "selectFeatures1 = [\"left-vol-bankssts\",\"left-vol-caudalanteriorcingulate\",\"left-vol-caudalmiddlefrontal\",\n",
    "                  \"left-vol-cuneus\",\"left-vol-entorhinal\",\"left-vol-fusiform\",\"left-vol-inferiorparietal\",\n",
    "                  \"left-vol-inferiortemporal\",\"left-vol-isthmuscingulate\",\"left-vol-lateraloccipital\",\n",
    "                  \"left-vol-lateralorbitofrontal\",\"left-vol-lingual\",\"left-vol-medialorbitofrontal\",\n",
    "                  \"left-vol-middletemporal\",\"left-vol-parahippocampal\",\"left-vol-paracentral\",\n",
    "                  \"left-vol-parsopercularis\",\"left-vol-parsorbitalis\",\"left-vol-parstriangularis\",\n",
    "                  \"left-vol-pericalcarine\",\"left-vol-postcentral\",\"left-vol-posteriorcingulate\",\n",
    "                  \"left-vol-precentral\",\"left-vol-precuneus\",\"left-vol-rostralanteriorcingulate\",\n",
    "                  \"left-vol-rostralmiddlefrontal\",\"left-vol-superiorfrontal\",\"left-vol-superiorparietal\",\n",
    "                  \"left-vol-superiortemporal\",\"left-vol-supramarginal\",\"left-vol-frontalpole\",\n",
    "                  \"left-vol-temporalpole\",\"left-vol-transversetemporal\",\"left-vol-insula\",\"right-vol-bankssts\",\n",
    "                  \"right-vol-caudalanteriorcingulate\",\"right-vol-caudalmiddlefrontal\",\"right-vol-cuneus\",\n",
    "                  \"right-vol-entorhinal\",\"right-vol-fusiform\",\"right-vol-inferiorparietal\",\n",
    "                  \"right-vol-inferiortemporal\",\"right-vol-isthmuscingulate\",\"right-vol-lateraloccipital\",\n",
    "                  \"right-vol-lateralorbitofrontal\",\"right-vol-lingual\",\"right-vol-medialorbitofrontal\",\n",
    "                  \"right-vol-middletemporal\",\"right-vol-parahippocampal\",\"right-vol-paracentral\",\n",
    "                  \"right-vol-parsopercularis\",\"right-vol-parsorbitalis\",\"right-vol-parstriangularis\",\n",
    "                  \"right-vol-pericalcarine\",\"right-vol-postcentral\",\"right-vol-posteriorcingulate\",\n",
    "                  \"right-vol-precentral\",\"right-vol-precuneus\",\"right-vol-rostralanteriorcingulate\",\n",
    "                  \"right-vol-rostralmiddlefrontal\",\"right-vol-superiorfrontal\",\"right-vol-superiorparietal\",\n",
    "                  \"right-vol-superiortemporal\",\"right-vol-supramarginal\",\"right-vol-frontalpole\",\n",
    "                  \"right-vol-temporalpole\",\"right-vol-transversetemporal\",\"right-vol-insula\",\n",
    "                  \"right-svol-Thalamus\",\"right-svol-Caudate\",\"right-svol-Putamen\",\"right-svol-Pallidum\",\n",
    "                  \"right-svol-Hippocampus\",\"right-svol-Amygdala\",\"right-svol-Accumbens\",\"left-svol-Thalamus\",\n",
    "                  \"left-svol-Caudate\",\"left-svol-Putamen\",\"left-svol-Pallidum\",\"left-svol-Hippocampus\",\n",
    "                  \"left-svol-Amygdala\",\"left-svol-Accumbens\"]"
   ]
  },
  {
   "cell_type": "code",
   "execution_count": null,
   "metadata": {},
   "outputs": [],
   "source": []
  }
 ],
 "metadata": {
  "kernelspec": {
   "display_name": "Python 3",
   "language": "python",
   "name": "python3"
  },
  "language_info": {
   "codemirror_mode": {
    "name": "ipython",
    "version": 3
   },
   "file_extension": ".py",
   "mimetype": "text/x-python",
   "name": "python",
   "nbconvert_exporter": "python",
   "pygments_lexer": "ipython3",
   "version": "3.6.9"
  }
 },
 "nbformat": 4,
 "nbformat_minor": 4
}
